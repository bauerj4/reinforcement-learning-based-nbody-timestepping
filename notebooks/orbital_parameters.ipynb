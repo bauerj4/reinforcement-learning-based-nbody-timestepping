{
 "cells": [
  {
   "cell_type": "markdown",
   "id": "abe0b382-908e-4fef-a651-79c6eab5fa9e",
   "metadata": {},
   "source": [
    "# Orbital Parameters Calculator\n",
    "\n",
    "Get the parameters for an elliptical orbit.\n",
    "\n",
    "## Compute Internal Units\n",
    "\n",
    "Get the units for the simulation."
   ]
  },
  {
   "cell_type": "code",
   "execution_count": 51,
   "id": "2fd40bc2-0db5-4e70-a1be-ba2c718cc763",
   "metadata": {},
   "outputs": [],
   "source": [
    "GRAVITY = 6.6743e-8 # 6.6743 × 10-8 cm3 g-1 s-2 (cgs)\n",
    "LENGTH_UNIT_CM =  3.085678e21 # 1 kpc / h\n",
    "MASS_UNIT_G = 1.989e43 # 10^10 M_sun /  h\n",
    "VELOCITY_UNIT_CM_S = 1.0e5 # 1 km / s\n",
    "TIME_UNIT_S = LENGTH_UNIT_CM / VELOCITY_UNIT_CM_S\n",
    "INTERNAL_G = (GRAVITY / LENGTH_UNIT_CM**3) * MASS_UNIT_G * TIME_UNIT_S**2"
   ]
  },
  {
   "cell_type": "markdown",
   "id": "169085a3-c57b-456e-93bd-8e53f3188040",
   "metadata": {},
   "source": [
    "## Set Orbital Parameters\n",
    "\n",
    "Specify the orbit."
   ]
  },
  {
   "cell_type": "code",
   "execution_count": 49,
   "id": "1756e352-bb81-4535-9fe5-d644d281a5cb",
   "metadata": {},
   "outputs": [
    {
     "name": "stdout",
     "output_type": "stream",
     "text": [
      "[-100.    0.    0.] [-43.02193132   0.           0.        ] 46.379915546878124 46.37991554687812\n"
     ]
    }
   ],
   "source": [
    "import numpy as np\n",
    "radius = 100 # 100 kpc / h\n",
    "m1 = 10\n",
    "m2 = 10\n",
    "\n",
    "x1 = np.array([radius/2, 0., 0.])\n",
    "x2 = np.array([-radius/2, 0., 0.])\n",
    "r_hat = x2 - x1\n",
    "\n",
    "g_acc_1 = r_hat * (INTERNAL_G * m2) / np.linalg.norm(r_hat)**3\n",
    "\n",
    "# g_acc = v**2 / r\n",
    "# v_circ_1 = (np.linalg.norm(g_acc_1) * radius)**0.5\n",
    "v_circ_1 = (INTERNAL_G * m1 / (2*radius))**0.5\n",
    "print(r_hat, g_acc_1, v_circ_1, v_circ_1 * VELOCITY_UNIT_CM_S / (LENGTH_UNIT_CM / TIME_UNIT_S))"
   ]
  },
  {
   "cell_type": "code",
   "execution_count": 38,
   "id": "b932b2f7-d1ba-4189-a2d2-5c8a15a226d6",
   "metadata": {},
   "outputs": [
    {
     "data": {
      "text/plain": [
       "np.float64(9.579325200943407)"
      ]
     },
     "execution_count": 38,
     "metadata": {},
     "output_type": "execute_result"
    }
   ],
   "source": [
    "period = 2. * np.pi * radius / v_circ_1\n",
    "period"
   ]
  },
  {
   "cell_type": "code",
   "execution_count": 57,
   "id": "435e0952-165a-4711-9a98-c0998e54a830",
   "metadata": {},
   "outputs": [
    {
     "data": {
      "text/plain": [
       "(array([-0.05769231,  0.        ,  0.        ]),\n",
       " array([1.44230769, 0.        , 0.        ]),\n",
       " array([ 0.        , 46.37991555,  0.        ]),\n",
       " array([    0.        , -1159.49788867,     0.        ]))"
      ]
     },
     "execution_count": 57,
     "metadata": {},
     "output_type": "execute_result"
    }
   ],
   "source": [
    "def generate_initial_conditions(M1, M2, a, e):\n",
    "    \"\"\"\n",
    "    Generates initial positions and velocities for a two-body system with given eccentricity.\n",
    "    \n",
    "    Parameters\n",
    "    ----------\n",
    "    M1 : float\n",
    "        Mass of the first body in 10^10 M_sun / h.\n",
    "    M2 : float\n",
    "        Mass of the second body in 10^10 M_sun / h.\n",
    "    a : float\n",
    "        Semi-major axis of the orbit in kpc / h.\n",
    "    e : float\n",
    "        Eccentricity of the orbit (0 <= e < 1 for an elliptical orbit).\n",
    "    \n",
    "    Returns\n",
    "    -------\n",
    "    pos1, pos2 : np.ndarray\n",
    "        Initial positions of the two bodies in kpc / h.\n",
    "    vel1, vel2 : np.ndarray\n",
    "        Initial velocities of the two bodies in km / s.\n",
    "    \"\"\"\n",
    "    # Periapsis distance\n",
    "    r_p = a * (1 - e)\n",
    "\n",
    "    # Calculate the reduced masses' positions (center of mass at origin)\n",
    "    pos1_x = -r_p * M2 / (M1 + M2)\n",
    "    pos2_x = r_p * M1 / (M1 + M2)\n",
    "\n",
    "    # Initial positions (in x-axis, periapsis)\n",
    "    pos1 = np.array([pos1_x, 0.0, 0.0])\n",
    "    pos2 = np.array([pos2_x, 0.0, 0.0])\n",
    "\n",
    "    # Periapsis velocities based on vis-viva equation\n",
    "    v_p = np.sqrt(INTERNAL_G * (M1 + M2) * (1 + e) / (a * (1 - e)))\n",
    "    \n",
    "    # Direction of velocities (perpendicular to the radius vector at periapsis)\n",
    "    vel1_y = v_p * M2 / (M1 + M2)\n",
    "    vel2_y = -v_p * M1 / (M1 + M2)\n",
    "\n",
    "    # Initial velocities (in y-axis)\n",
    "    vel1 = np.array([0.0, vel1_y, 0.0])\n",
    "    vel2 = np.array([0.0, vel2_y, 0.0])\n",
    "\n",
    "    return pos1, pos2, vel1, vel2\n",
    "\n",
    "# Example usage\n",
    "M1 = 25. \n",
    "M2 = 1.\n",
    "a = 30.\n",
    "e = 0.95 # Crazy high ellipticity\n",
    "\n",
    "pos1, pos2, vel1, vel2 = generate_initial_conditions(M1, M2, a, e)\n",
    "pos1, pos2, vel1, vel2"
   ]
  }
 ],
 "metadata": {
  "kernelspec": {
   "display_name": "nbody-timestepping",
   "language": "python",
   "name": "nbody-timestepping"
  },
  "language_info": {
   "codemirror_mode": {
    "name": "ipython",
    "version": 3
   },
   "file_extension": ".py",
   "mimetype": "text/x-python",
   "name": "python",
   "nbconvert_exporter": "python",
   "pygments_lexer": "ipython3",
   "version": "3.11.0rc1"
  }
 },
 "nbformat": 4,
 "nbformat_minor": 5
}
