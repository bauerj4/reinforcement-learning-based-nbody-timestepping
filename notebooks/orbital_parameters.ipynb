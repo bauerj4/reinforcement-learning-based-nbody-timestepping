{
 "cells": [
  {
   "cell_type": "markdown",
   "id": "abe0b382-908e-4fef-a651-79c6eab5fa9e",
   "metadata": {},
   "source": [
    "# Orbital Parameters Calculator\n",
    "\n",
    "Get the parameters for an elliptical orbit.\n",
    "\n",
    "## Compute Internal Units\n",
    "\n",
    "Get the units for the simulation."
   ]
  },
  {
   "cell_type": "code",
   "execution_count": 28,
   "id": "2fd40bc2-0db5-4e70-a1be-ba2c718cc763",
   "metadata": {},
   "outputs": [],
   "source": [
    "GRAVITY = 6.6743e-8 # 6.6743 × 10-8 cm3 g-1 s-2 (cgs)\n",
    "LENGTH_UNIT_CM =  3.085678e21 # 1 kpc / h\n",
    "MASS_UNIT_G = 1.989e43 # 10^10 M_sun /  h\n",
    "VELOCITY_UNIT_CM_S = 1.0e5 # 1 km / s\n",
    "TIME_UNIT_S = LENGTH_UNIT_CM / VELOCITY_UNIT_CM_S\n",
    "INTERNAL_G = (GRAVITY / LENGTH_UNIT_CM**3) * MASS_UNIT_G * TIME_UNIT_S**2"
   ]
  },
  {
   "cell_type": "markdown",
   "id": "169085a3-c57b-456e-93bd-8e53f3188040",
   "metadata": {},
   "source": [
    "## Set Orbital Parameters\n",
    "\n",
    "Specify the orbit."
   ]
  },
  {
   "cell_type": "code",
   "execution_count": 49,
   "id": "1756e352-bb81-4535-9fe5-d644d281a5cb",
   "metadata": {},
   "outputs": [
    {
     "name": "stdout",
     "output_type": "stream",
     "text": [
      "[-100.    0.    0.] [-43.02193132   0.           0.        ] 46.379915546878124 46.37991554687812\n"
     ]
    }
   ],
   "source": [
    "import numpy as np\n",
    "radius = 100 # 100 kpc / h\n",
    "m1 = 10\n",
    "m2 = 10\n",
    "\n",
    "x1 = np.array([radius/2, 0., 0.])\n",
    "x2 = np.array([-radius/2, 0., 0.])\n",
    "r_hat = x2 - x1\n",
    "\n",
    "g_acc_1 = r_hat * (INTERNAL_G * m2) / np.linalg.norm(r_hat)**3\n",
    "\n",
    "# g_acc = v**2 / r\n",
    "# v_circ_1 = (np.linalg.norm(g_acc_1) * radius)**0.5\n",
    "v_circ_1 = (INTERNAL_G * m1 / (2*radius))**0.5\n",
    "print(r_hat, g_acc_1, v_circ_1, v_circ_1 * VELOCITY_UNIT_CM_S / (LENGTH_UNIT_CM / TIME_UNIT_S))"
   ]
  },
  {
   "cell_type": "code",
   "execution_count": 38,
   "id": "b932b2f7-d1ba-4189-a2d2-5c8a15a226d6",
   "metadata": {},
   "outputs": [
    {
     "data": {
      "text/plain": [
       "np.float64(9.579325200943407)"
      ]
     },
     "execution_count": 38,
     "metadata": {},
     "output_type": "execute_result"
    }
   ],
   "source": [
    "period = 2. * np.pi * radius / v_circ_1\n",
    "period"
   ]
  }
 ],
 "metadata": {
  "kernelspec": {
   "display_name": "nbody-timestepping",
   "language": "python",
   "name": "nbody-timestepping"
  },
  "language_info": {
   "codemirror_mode": {
    "name": "ipython",
    "version": 3
   },
   "file_extension": ".py",
   "mimetype": "text/x-python",
   "name": "python",
   "nbconvert_exporter": "python",
   "pygments_lexer": "ipython3",
   "version": "3.11.0rc1"
  }
 },
 "nbformat": 4,
 "nbformat_minor": 5
}
